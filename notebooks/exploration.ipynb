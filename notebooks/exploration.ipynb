{
 "cells": [
  {
   "cell_type": "code",
   "execution_count": null,
   "id": "fb180a6f",
   "metadata": {
    "vscode": {
     "languageId": "plaintext"
    }
   },
   "outputs": [],
   "source": [
    "{\n",
    "  \"cells\": [\n",
    "    {\n",
    "      \"cell_type\": \"markdown\",\n",
    "      \"metadata\": {},\n",
    "      \"source\": [\"# Exploration of LLM Copilot for Chargeback Verification\"]\n",
    "    },\n",
    "    {\n",
    "      \"cell_type\": \"code\",\n",
    "      \"metadata\": {},\n",
    "      \"source\": [\n",
    "        \"from src.main import run_verification\\n\",\n",
    "        \"input_pdf = 'data/sample.pdf'\\n\",\n",
    "        \"output_json = 'results/sample_results.json'\\n\",\n",
    "        \"run_verification(input_pdf, output_json)\\n\"\n",
    "      ]\n",
    "    },\n",
    "    {\n",
    "      \"cell_type\": \"code\",\n",
    "      \"metadata\": {},\n",
    "      \"source\": [\n",
    "        \"import json\\n\",\n",
    "        \"with open('results/sample_results.json') as f:\\n\",\n",
    "        \"    results = json.load(f)\\n\",\n",
    "        \"results[:3]\"\n",
    "      ]\n",
    "    },\n",
    "    {\n",
    "      \"cell_type\": \"code\",\n",
    "      \"metadata\": {},\n",
    "      \"source\": [\n",
    "        \"# Display SHAP explanation for first document\\n\",\n",
    "        \"from IPython.display import JSON\\n\",\n",
    "        \"JSON(results[0]['explanation'])\"\n",
    "      ]\n",
    "    }\n",
    "  ],\n",
    "  \"metadata\": {},\n",
    "  \"nbformat\": 4,\n",
    "  \"nbformat_minor\": 5\n",
    "}"
   ]
  }
 ],
 "metadata": {
  "language_info": {
   "name": "python"
  }
 },
 "nbformat": 4,
 "nbformat_minor": 5
}
